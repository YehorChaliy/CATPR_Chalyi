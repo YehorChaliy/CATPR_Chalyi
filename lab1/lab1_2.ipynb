{
 "cells": [
  {
   "cell_type": "code",
   "execution_count": 17,
   "metadata": {},
   "outputs": [
    {
     "name": "stdout",
     "output_type": "stream",
     "text": [
      "7.0\t0.0\t6.0\t6.4\t2.0\n",
      "3.818\t2.778\t1.765\t4.8\t4.0\n",
      "0.0\t5.0\t0.0\t0.0\t0.0\n",
      "5.727\t1.667\t2.824\t8.0\t6.0\n",
      "1.273\t4.167\t0.706\t3.2\t4.0\n"
     ]
    }
   ],
   "source": [
    "criteria = [[85, 30, 22, 0.65, 6],\n",
    "            [60, 20, 10, 0.6, 7],\n",
    "            [30, 12, 5, 0.45, 5],\n",
    "            [75, 24, 13, 0.7, 8],\n",
    "            [40, 15, 7, 0.55, 7]]\n",
    "\n",
    "weight = [7, 5, 6, 8, 6]\n",
    "\n",
    "normalization = [1, 0, 1, 1, 1]\n",
    "\n",
    "for i in range(len(criteria[0])):\n",
    "    column_values = [row[i] for row in criteria]\n",
    "    min_temp = min(column_values)\n",
    "    max_temp = max(column_values)\n",
    "\n",
    "    for j in range(len(criteria)):\n",
    "        if max_temp != min_temp:\n",
    "            if normalization[i]:\n",
    "                criteria[j][i] = round(((criteria[j][i] - min_temp) / (max_temp - min_temp)) * weight[i], 3)\n",
    "            else:\n",
    "                criteria[j][i] = round(((max_temp - criteria[j][i]) / (max_temp - min_temp)) * weight[i], 3)\n",
    "        else:\n",
    "            criteria[j][i] = 0.0\n",
    "\n",
    "for row in criteria:\n",
    "    print(*row, sep=\"\\t\")"
   ]
  },
  {
   "cell_type": "code",
   "execution_count": 13,
   "metadata": {},
   "outputs": [
    {
     "name": "stdout",
     "output_type": "stream",
     "text": [
      "Сума: [21.4, 17.161, 5.0, 24.218, 13.346]\n",
      "У альтернативи  4  максимальна функція корисності: 24.218\n"
     ]
    }
   ],
   "source": [
    "result = list()\n",
    "\n",
    "for i in criteria:\n",
    "    sum = 0\n",
    "    for j in i:\n",
    "        sum += j\n",
    "    result.append(sum)\n",
    "\n",
    "print(\"Сума:\", result)\n",
    "\n",
    "print(\"У альтернативи \", result.index(max(result))+1, \" максимальна функція корисності:\", max(result))"
   ]
  }
 ],
 "metadata": {
  "kernelspec": {
   "display_name": "baseenv3.10",
   "language": "python",
   "name": "python3"
  },
  "language_info": {
   "codemirror_mode": {
    "name": "ipython",
    "version": 3
   },
   "file_extension": ".py",
   "mimetype": "text/x-python",
   "name": "python",
   "nbconvert_exporter": "python",
   "pygments_lexer": "ipython3",
   "version": "3.10.12"
  }
 },
 "nbformat": 4,
 "nbformat_minor": 2
}
