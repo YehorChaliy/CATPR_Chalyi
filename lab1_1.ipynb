{
 "cells": [
  {
   "cell_type": "code",
   "execution_count": 3,
   "metadata": {},
   "outputs": [
    {
     "name": "stdout",
     "output_type": "stream",
     "text": [
      "24\t63\t12\t63\n",
      "64\t27\t36\t49\n",
      "32\t72\t18\t35\n",
      "72\t54\t30\t28\n"
     ]
    }
   ],
   "source": [
    "criteria = [[3, 7, 2, 9],\n",
    "            [8, 3, 6, 7],\n",
    "            [4, 8, 3, 5],            \n",
    "            [9, 6, 5, 4]]\n",
    "\n",
    "weight = [8, 9, 6, 7]\n",
    "\n",
    "for i in range(len(criteria)):\n",
    "    for j in range(len(criteria[i])):\n",
    "        criteria[i][j] *= weight[j]\n",
    "\n",
    "for row in criteria:\n",
    "    print(*row, sep=\"\\t\")\n"
   ]
  },
  {
   "cell_type": "code",
   "execution_count": 5,
   "metadata": {},
   "outputs": [
    {
     "name": "stdout",
     "output_type": "stream",
     "text": [
      "Сума: [162, 176, 157, 184]\n",
      "У альтернативи  4  максимальна функція корисності: 184\n"
     ]
    }
   ],
   "source": [
    "result = list()\n",
    "\n",
    "for i in criteria:\n",
    "    sum = 0\n",
    "    for j in i:\n",
    "        sum += j\n",
    "    result.append(sum)\n",
    "\n",
    "print(\"Сума:\", result)\n",
    "\n",
    "print(\"У альтернативи \", result.index(max(result))+1, \" максимальна функція корисності:\", max(result))"
   ]
  }
 ],
 "metadata": {
  "kernelspec": {
   "display_name": "baseenv3.10",
   "language": "python",
   "name": "python3"
  },
  "language_info": {
   "codemirror_mode": {
    "name": "ipython",
    "version": 3
   },
   "file_extension": ".py",
   "mimetype": "text/x-python",
   "name": "python",
   "nbconvert_exporter": "python",
   "pygments_lexer": "ipython3",
   "version": "3.10.12"
  }
 },
 "nbformat": 4,
 "nbformat_minor": 2
}
