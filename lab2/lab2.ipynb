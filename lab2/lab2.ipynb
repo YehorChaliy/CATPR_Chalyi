{
 "cells": [
  {
   "cell_type": "code",
   "execution_count": null,
   "metadata": {},
   "outputs": [],
   "source": [
    "import pandas as pd\n",
    "\n",
    "first_expert = pd.read_excel('САТПР_Lab2.xlsx', sheet_name='Етап1', usecols='C:J', skiprows=2, nrows=8)\n",
    "second_expert = pd.read_excel('САТПР_Lab2.xlsx', sheet_name='Етап1', usecols='C:J', skiprows=14, nrows=8)\n",
    "\n",
    "print('Матриця порівнянь для першого експерта:\\n')\n",
    "print(first_expert.to_string(index=False))\n",
    "print('\\nМатриця порівнянь для другого експерта:\\n')\n",
    "print(second_expert.to_string(index=False))"
   ]
  },
  {
   "cell_type": "code",
   "execution_count": null,
   "metadata": {},
   "outputs": [],
   "source": [
    "import numpy as np\n",
    "\n",
    "first_Wi = np.power(np.prod(first_expert.values, axis=1), 1/8)\n",
    "second_Wi = np.power(np.prod(second_expert.values, axis=1), 1/8)\n",
    "\n",
    "print('\\nВага критеріїв для першого експерта:\\n')\n",
    "print(pd.DataFrame(first_Wi, columns=['Wi']))\n",
    "print(f'Сума: {np.sum(first_Wi)}')\n",
    "print('\\nВага критеріїв для другого експерта:\\n')\n",
    "print(pd.DataFrame(second_Wi, columns=['Wi']))\n",
    "print(f'Сума: {np.sum(second_Wi)}')"
   ]
  },
  {
   "cell_type": "code",
   "execution_count": null,
   "metadata": {},
   "outputs": [],
   "source": [
    "first_Wnorm = first_Wi / np.sum(first_Wi)\n",
    "second_Wnorm = second_Wi / np.sum(second_Wi)\n",
    "\n",
    "print('Нормований вектор пріоритетів для першого експерта:\\n')\n",
    "print(pd.DataFrame(first_Wnorm, columns=['Wnorm']))\n",
    "print('Сума:', np.sum(first_Wnorm))\n",
    "\n",
    "print('\\nНормований вектор пріоритетів для другого експерта:\\n')\n",
    "print(pd.DataFrame(second_Wnorm, columns=['Wnorm']))\n",
    "print('Сума:', np.sum(second_Wnorm))"
   ]
  },
  {
   "cell_type": "code",
   "execution_count": null,
   "metadata": {},
   "outputs": [],
   "source": [
    "sumOfCols1 = np.sum(first_expert.values, axis=0)\n",
    "l1 = 0\n",
    "for i in range(8):\n",
    "\tl1 += sumOfCols1[i] * first_Wnorm[i]\n",
    "IC1 = (l1 - 8) / 7\n",
    "print('λ: ', l1)\n",
    "print('IC: ', IC1)\n",
    "print('CC: ', 1.41)\n",
    "print('OC: ', round(IC1 / 1.41 * 100, 2),'%')"
   ]
  },
  {
   "cell_type": "code",
   "execution_count": null,
   "metadata": {},
   "outputs": [],
   "source": [
    "sumOfCols2 = np.sum(second_expert.values, axis=0)\n",
    "l1 = 0\n",
    "for i in range(8):\n",
    "\tl1 += sumOfCols2[i] * second_Wnorm[i]\n",
    "IC2 = (l1 - 8) / 7\n",
    "print('λ: ', l1)\n",
    "print('IC: ', IC2)\n",
    "print('CC: ', 1.41)\n",
    "print('OC: ', round(IC2 / 1.41 * 100, 2),'%')"
   ]
  },
  {
   "cell_type": "code",
   "execution_count": null,
   "metadata": {},
   "outputs": [],
   "source": [
    "def alternate_weights(sheet_name: str, Wnorm: np.ndarray):\n",
    "    for i in range(8):\n",
    "        data = pd.read_excel('САТПР_Lab2.xlsx', sheet_name=sheet_name, usecols='C:E', skiprows=i * 7 + 3, nrows=3, header=None)\n",
    "        data[4] = np.power(np.prod(data.values, axis=1), 1/3)\n",
    "        data[5] = data[4] / np.sum(data[4])\n",
    "        Wnorm.append(data[5].values)\n",
    "\n",
    "        maxW = np.max(data[5])\n",
    "        maxWidx = np.argmax(data[5])\n",
    "        print('K' + str(i + 1) + ':')\n",
    "        print(data.to_string(index=False, header=False))\n",
    "        print('Максимальне значення нормалізованої ваги у', ' A' + str(maxWidx + 1) + ': ', round(maxW, 6), '\\n')\n",
    "\n",
    "alternativeWnorm1 = []\n",
    "print('Експерт 1:')\n",
    "print()\n",
    "alternate_weights('Етап2', alternativeWnorm1)\n",
    "alternativeWnorm2 = []\n",
    "print('\\nЕксперт 2:\\n')\n",
    "print()\n",
    "alternate_weights('Етап3', alternativeWnorm2)\n"
   ]
  },
  {
   "cell_type": "code",
   "execution_count": null,
   "metadata": {},
   "outputs": [],
   "source": [
    "MO = []\n",
    "for i in range(8):\n",
    "\tMO.append(np.power(first_Wnorm[i] * second_Wnorm[i], 1/2))\n",
    "sum_mo = np.sum(MO)\n",
    "print(f'MO:\\n {pd.DataFrame(MO).to_string(index=False, header=False)}')\n",
    "print('Сума: ', sum_mo)"
   ]
  },
  {
   "cell_type": "code",
   "execution_count": null,
   "metadata": {},
   "outputs": [],
   "source": [
    "alternativeWnormMax = []\n",
    "for i in range(3):\n",
    "\tarr = []\n",
    "\tfor j in range(8):\n",
    "\t\tarr.append(np.max([alternativeWnorm1[j][i], alternativeWnorm2[j][i]]))\n",
    "\talternativeWnormMax.append(arr)\n",
    "print(pd.DataFrame(alternativeWnormMax).to_string(index=False, header=False))\n",
    "\n",
    "globalPriorities = []\n",
    "for i in range(0, 3):\n",
    "\ttmp = []\n",
    "\tfor j in range(0, 8):\n",
    "\t\ttmp.append(MO[j] * alternativeWnormMax[i][j])\n",
    "\tglobalPriorities.append(np.sum(tmp))\n",
    "print(f'\\nГлобальні пріоритети:\\n {pd.DataFrame(globalPriorities).to_string(header=False)}')\n",
    "\n",
    "maxGlobal = np.max(globalPriorities)\n",
    "maxGlobalIdx = np.argmax(globalPriorities)\n",
    "\n",
    "print('\\nНайбільше значення: ', \"А\" + str(maxGlobalIdx + 1) + \" - \", round(maxGlobal, 6), '\\n')"
   ]
  }
 ],
 "metadata": {
  "kernelspec": {
   "display_name": "baseenv3.10",
   "language": "python",
   "name": "python3"
  },
  "language_info": {
   "codemirror_mode": {
    "name": "ipython",
    "version": 3
   },
   "file_extension": ".py",
   "mimetype": "text/x-python",
   "name": "python",
   "nbconvert_exporter": "python",
   "pygments_lexer": "ipython3",
   "version": "3.10.12"
  }
 },
 "nbformat": 4,
 "nbformat_minor": 2
}
