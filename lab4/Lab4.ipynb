{
 "cells": [
  {
   "cell_type": "code",
   "execution_count": null,
   "metadata": {},
   "outputs": [],
   "source": [
    "import numpy as np\n",
    "\n",
    "def calculate_criteria_for_k(k):\n",
    "    payment_matrix = np.array([\n",
    "        [180, 140, k, 245 - 4 * k, 232],\n",
    "        [420, 120 + 10 * k, 140, 220, 100],\n",
    "        [25 + 8 * k, 315, 35, 49, 10 * (k + 23) - 50],\n",
    "        [290 - 10 * k, k, 9, 100 * k - 90, 201]\n",
    "    ])\n",
    "\n",
    "    # Розрахунок для кожного критерію\n",
    "    min_elements = np.min(payment_matrix, axis=1)\n",
    "    max_elements = np.max(payment_matrix, axis=1)\n",
    "    pessimism_criteria = min_elements\n",
    "    optimism_criteria = max_elements\n",
    "    lambda_val = 1 / (k + 3)\n",
    "    hurwicz_criteria = lambda_val * min_elements + (1 - lambda_val) * max_elements\n",
    "    laplace_criteria = np.mean(payment_matrix, axis=1)\n",
    "    bayes_laplace_criteria = np.array([0.1, 0.2, lambda_val, lambda_val + 0.1, 1 - 0.1 - 0.2 - lambda_val - (lambda_val + 0.1)])\n",
    "    bayes_laplace_criteria_result = np.dot(payment_matrix, bayes_laplace_criteria)\n",
    "    hodges_lehmann_criteria = lambda_val * bayes_laplace_criteria_result + (1 - lambda_val) * min_elements\n",
    "\n",
    "    optimal_pessimism_strategy = np.argmax(pessimism_criteria)\n",
    "    optimal_optimism_strategy = np.argmax(optimism_criteria)\n",
    "    optimal_hurwicz_strategy = np.argmax(hurwicz_criteria)\n",
    "    optimal_laplace_strategy = np.argmax(laplace_criteria)\n",
    "    optimal_bayes_laplace_strategy = np.argmax(bayes_laplace_criteria_result)\n",
    "    optimal_hodges_lehmann_strategy = np.argmax(hodges_lehmann_criteria)\n",
    "\n",
    "    print(f\"Критерій песимізму:\\nОбираємо альтернативу A{optimal_pessimism_strategy + 1}, яка має найбільший прибуток при найгіршому сценарії :{np.max(pessimism_criteria)}\")\n",
    "    print(f\"Критерій оптимізму:\\n Обираємо альтернативу A{optimal_optimism_strategy + 1} з максимальним прибутком: {np.max(optimism_criteria)}\")\n",
    "    print(f\"Критерій Гурвіца:\\n Обираємо альтернативу A{optimal_hurwicz_strategy + 1} з максимальним значенням корисності: {np.max(hurwicz_criteria)}\")\n",
    "    print(f\"Критерій Лапласа:\\n Обираємо альтернативу A{optimal_laplace_strategy + 1}, з максимальним значенням корисності: {np.max(laplace_criteria)}\")\n",
    "    print(f\"Критерій Байєса-Лапласа:\\n Обираємо альтернативу A{optimal_bayes_laplace_strategy + 1}, з максимальним значенням корисності: {np.max(bayes_laplace_criteria_result)}\")\n",
    "    print(f\"Критерій Ходжа-Лемана:\\n Обираємо альтернативу A{optimal_hodges_lehmann_strategy + 1}, з максимальним значенням корисності: {np.max(hodges_lehmann_criteria)}\")\n",
    "\n",
    "k_value = int(input(\"Введіть значення k (від 1 до 12): \"))\n",
    "calculate_criteria_for_k(k_value)"
   ]
  }
 ],
 "metadata": {
  "kernelspec": {
   "display_name": "baseenv3.10",
   "language": "python",
   "name": "python3"
  },
  "language_info": {
   "codemirror_mode": {
    "name": "ipython",
    "version": 3
   },
   "file_extension": ".py",
   "mimetype": "text/x-python",
   "name": "python",
   "nbconvert_exporter": "python",
   "pygments_lexer": "ipython3",
   "version": "3.10.12"
  }
 },
 "nbformat": 4,
 "nbformat_minor": 2
}
