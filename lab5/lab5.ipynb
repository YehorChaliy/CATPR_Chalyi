{
 "cells": [
  {
   "cell_type": "code",
   "execution_count": null,
   "metadata": {},
   "outputs": [],
   "source": [
    "import numpy as np\n",
    "import scipy.optimize as optimize\n",
    "\n",
    "def solve_game(gains_matrix):\n",
    "    min_payoffs = gains_matrix.min(axis=1)\n",
    "    max_payoffs = gains_matrix.max(axis=0)\n",
    "\n",
    "    maxmin = max(min_payoffs)\n",
    "    minmax = min(max_payoffs)\n",
    "\n",
    "    maxmin_indexes = np.where(min_payoffs == maxmin)\n",
    "    minmax_indexes = np.where(max_payoffs == minmax)\n",
    "\n",
    "    if minmax == maxmin:\n",
    "        return minmax, maxmin_indexes[0][0], minmax_indexes[0][0]\n",
    "    else:\n",
    "        return minmax, maxmin_indexes[0][0], maxmin, minmax_indexes[0][0]\n",
    "\n",
    "def main():\n",
    "    task1_matrix = np.array([\n",
    "        [0.8, 0.6, 0.2, -0.8],\n",
    "        [-0.8, 0.9, -0.4, 0.5],\n",
    "        [1.7, 0.5, 0.3, 0.6]\n",
    "    ])\n",
    "\n",
    "    result = solve_game(task1_matrix)\n",
    "    if len(result) == 3:\n",
    "        print(\"\\nThe game has a saddle point in pure strategies.\")\n",
    "        print(f\"Game price: {result[0]}\")\n",
    "        print(\"Saddle point:\", tuple(result[1:]))\n",
    "    else:\n",
    "        print(\"\\nThe game doesn't have a saddle point in pure strategies.\")\n",
    "        print(f\"Lower game price: {result[0]}\")\n",
    "        print(\"Maximin strategy for Player 1 (rows):\", result[1])\n",
    "        print(f\"Upper game price: {result[2]}\")\n",
    "        print(\"Minimax strategy for Player 2 (columns):\", result[3])\n",
    "\n",
    "if __name__ == \"__main__\":\n",
    "    main()"
   ]
  },
  {
   "cell_type": "code",
   "execution_count": null,
   "metadata": {},
   "outputs": [],
   "source": [
    "import numpy as np\n",
    "\n",
    "payoff_matrix = np.array([\n",
    "    [0.4, 0.84],\n",
    "    [0.8, 1.32],\n",
    "    [1.2, 1.8],\n",
    "    [0.88, 1.08]\n",
    "])\n",
    "\n",
    "min_payoffs_A = np.min(payoff_matrix, axis=1)\n",
    "lower_price_A = np.max(min_payoffs_A)\n",
    "print(\"Нижня ціна гри для гравця A:\", lower_price_A)\n",
    "max_payoffs_B = np.max(payoff_matrix, axis=0)\n",
    "upper_price_B = np.min(max_payoffs_B)\n",
    "print(\"Верхня ціна гри для гравця B:\", upper_price_B)\n",
    "\n",
    "saddle_points = []\n",
    "for i, row in enumerate(payoff_matrix):\n",
    "    for j, payoff in enumerate(row):\n",
    "        if payoff == lower_price_A and payoff == upper_price_B:\n",
    "            saddle_points.append((i, j))\n",
    "\n",
    "if saddle_points:\n",
    "    print(\"Знайдено сідлові точки:\")\n",
    "    for point in saddle_points:\n",
    "        print(f\"Сідлова точка у рядку {point[0]+1}, стовпці {point[1]+1}\")\n",
    "else:\n",
    "    print(\"Сідлові точки не знайдено.\")"
   ]
  }
 ],
 "metadata": {
  "kernelspec": {
   "display_name": "baseenv3.10",
   "language": "python",
   "name": "python3"
  },
  "language_info": {
   "codemirror_mode": {
    "name": "ipython",
    "version": 3
   },
   "file_extension": ".py",
   "mimetype": "text/x-python",
   "name": "python",
   "nbconvert_exporter": "python",
   "pygments_lexer": "ipython3",
   "version": "3.10.12"
  }
 },
 "nbformat": 4,
 "nbformat_minor": 2
}
