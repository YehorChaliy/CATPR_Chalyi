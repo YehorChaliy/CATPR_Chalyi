{
 "cells": [
  {
   "cell_type": "code",
   "execution_count": null,
   "metadata": {},
   "outputs": [],
   "source": [
    "import numpy as np\n",
    "from scipy.optimize import linear_sum_assignment\n",
    "\n",
    "cost = [\n",
    "    [5, 6, 7], \n",
    "    [2, 3, 7],\n",
    "    [4, 7, 7]  \n",
    "]\n",
    "cost = np.array(cost)\n",
    "cost = np.column_stack((cost[:, :2], np.zeros(cost.shape[0])))\n",
    "\n",
    "row_ind, col_ind = linear_sum_assignment(cost)\n",
    "total_cost = cost[row_ind, col_ind].sum()\n",
    "print(\"Час виконання для кожного працівника з двома оптимальними роботами:\")\n",
    "for l, r in zip(row_ind, col_ind):\n",
    "    if r < len(cost[0]) - 1: \n",
    "        print(f\"Працівник l{l + 1} виконує роботу r{r + 1} за {cost[l][r]} годин\")\n",
    "\n",
    "print(f\"\\nМінімальний час виконання двох робіт: {total_cost} годин\")"
   ]
  }
 ],
 "metadata": {
  "kernelspec": {
   "display_name": "baseenv3.10",
   "language": "python",
   "name": "python3"
  },
  "language_info": {
   "codemirror_mode": {
    "name": "ipython",
    "version": 3
   },
   "file_extension": ".py",
   "mimetype": "text/x-python",
   "name": "python",
   "nbconvert_exporter": "python",
   "pygments_lexer": "ipython3",
   "version": "3.10.12"
  }
 },
 "nbformat": 4,
 "nbformat_minor": 2
}
