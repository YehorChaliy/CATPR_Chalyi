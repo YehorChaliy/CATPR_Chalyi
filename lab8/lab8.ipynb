{
 "cells": [
  {
   "cell_type": "code",
   "execution_count": null,
   "metadata": {},
   "outputs": [],
   "source": [
    "import numpy as np\n",
    "\n",
    "def northwest_corner_method(supply, demand, costs):\n",
    "    supply_remaining = supply.copy()\n",
    "    demand_remaining = demand.copy()\n",
    "    num_suppliers = len(supply)\n",
    "    num_customers = len(demand)\n",
    "    \n",
    "    transportation_plan = np.zeros((num_suppliers, num_customers))\n",
    "    \n",
    "    supplier_index, customer_index = 0, 0\n",
    "    \n",
    "    while supplier_index < num_suppliers and customer_index < num_customers:\n",
    "        if supply_remaining[supplier_index] <= demand_remaining[customer_index]:\n",
    "            transportation_plan[supplier_index][customer_index] = supply_remaining[supplier_index]\n",
    "            demand_remaining[customer_index] -= supply_remaining[supplier_index]\n",
    "            supplier_index += 1\n",
    "        else:\n",
    "            transportation_plan[supplier_index][customer_index] = demand_remaining[customer_index]\n",
    "            supply_remaining[supplier_index] -= demand_remaining[customer_index]\n",
    "            customer_index += 1\n",
    "    \n",
    "    return transportation_plan\n",
    "\n",
    "supply1 = [350, 200, 300]\n",
    "demand1 = [170, 140, 200, 195, 145]\n",
    "costs1 = np.array([\n",
    "    [22, 14, 16, 28, 30],\n",
    "    [19, 17, 26, 36, 36],\n",
    "    [37, 30, 31, 39, 41]\n",
    "])\n",
    "\n",
    "result1 = northwest_corner_method(supply1, demand1, costs1)\n",
    "print(\"Задача 1:\")\n",
    "print(\"Опорний план за методом північно-західного кута:\")\n",
    "print(result1)\n",
    "\n",
    "supply2 = [200, 450, 250]\n",
    "demand2 = [100, 125, 325, 250, 100]\n",
    "costs2 = np.array([\n",
    "    [5, 8, 7, 10, 3],\n",
    "    [4, 4, 2, 5, 6],\n",
    "    [7, 3, 5, 9, 2]\n",
    "])\n",
    "\n",
    "result2 = northwest_corner_method(supply2, demand2, costs2)\n",
    "print(\"\\nЗадача 2:\")\n",
    "print(\"Опорний план за методом північно-західного кута:\")\n",
    "print(result2)"
   ]
  }
 ],
 "metadata": {
  "kernelspec": {
   "display_name": "baseenv3.10",
   "language": "python",
   "name": "python3"
  },
  "language_info": {
   "codemirror_mode": {
    "name": "ipython",
    "version": 3
   },
   "file_extension": ".py",
   "mimetype": "text/x-python",
   "name": "python",
   "nbconvert_exporter": "python",
   "pygments_lexer": "ipython3",
   "version": "3.10.12"
  }
 },
 "nbformat": 4,
 "nbformat_minor": 2
}
